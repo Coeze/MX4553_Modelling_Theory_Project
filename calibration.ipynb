{
  "cells": [
    {
      "cell_type": "markdown",
      "id": "3a9c7a83",
      "metadata": {
        "id": "3a9c7a83"
      },
      "source": [
        "# Model Calibration using Genetic Algorithm\n",
        "\n",
        "This notebook implements a genetic algorithm to optimize the parameters of the forest fire spread model using real fire data from the MTBS dataset. The optimization is based on the Sørensen index (also known as the Dice coefficient), which measures the spatial agreement between simulated and observed burned areas."
      ]
    },
    {
      "cell_type": "code",
      "execution_count": null,
      "id": "278cef15",
      "metadata": {
        "id": "278cef15"
      },
      "outputs": [],
      "source": [
        "# Import necessary libraries\n",
        "import os\n",
        "import sys\n",
        "import numpy as np\n",
        "import pandas as pd\n",
        "import matplotlib.pyplot as plt\n",
        "import glob\n",
        "import random\n",
        "import json\n",
        "from scipy.stats import pearsonr\n",
        "from deap import base, creator, tools, algorithms\n",
        "import multiprocessing\n",
        "\n",
        "# Add src directory to path\n",
        "sys.path.append(os.path.join(os.getcwd(), 'src'))\n",
        "\n",
        "# Import our model from the src directory\n",
        "from model import CA\n",
        "\n",
        "# Set random seed for reproducibility\n",
        "np.random.seed(42)\n",
        "random.seed(42)"
      ]
    },
    {
      "cell_type": "markdown",
      "id": "d7a8a97b",
      "metadata": {
        "id": "d7a8a97b"
      },
      "source": [
        "## Finding Available Fire Data\n",
        "\n",
        "First, we'll identify the available fire datasets in the data directory that we can use for calibration."
      ]
    },
    {
      "cell_type": "code",
      "execution_count": null,
      "id": "32ed2e76",
      "metadata": {
        "id": "32ed2e76"
      },
      "outputs": [],
      "source": [
        "fires = ['alabama', 'arizona']"
      ]
    },
    {
      "cell_type": "markdown",
      "id": "1fe43305",
      "metadata": {
        "id": "1fe43305"
      },
      "source": [
        "## Setting Up the Calibration Framework\n",
        "\n",
        "We'll define functions to evaluate model performance against real fire data using the Sørensen index."
      ]
    },
    {
      "cell_type": "code",
      "execution_count": null,
      "id": "9dad19f0",
      "metadata": {
        "id": "9dad19f0"
      },
      "outputs": [],
      "source": [
        "def init_model_from_fire_data(fire, grid_size=(100, 100)):\n",
        "    \"\"\"Initialize a CA model from fire data\"\"\"\n",
        "    # Create a new CA model\n",
        "    model = CA(grid_size=grid_size)\n",
        "\n",
        "    # Initialize from MTBS data\n",
        "    success = model.initialize_from_mtbs_data(fire)\n",
        "\n",
        "    return model if success else None\n",
        "\n",
        "def evaluate_model_performance(model, simulation_steps=20, params=None):\n",
        "    \"\"\"Run a model simulation and evaluate performance against actual fire data\"\"\"\n",
        "    if params:\n",
        "        # Set model parameters\n",
        "        model.p0 = params.get('p0', 0.5)\n",
        "        model.c1 = params.get('c1', 0.5)\n",
        "        model.c2 = params.get('c2', 0.5)\n",
        "\n",
        "    # Run the simulation\n",
        "    history = model.run_simulation(simulation_steps)\n",
        "\n",
        "    # Compare with actual burned area\n",
        "    if model.actual_burned_area is not None:\n",
        "        simulated_burned = (model.grid == 2).astype(int)  # Cells with state 2 are burnt\n",
        "\n",
        "        # Calculate Sørensen index (Dice coefficient)\n",
        "        true_positives = np.sum((simulated_burned == 1) & (model.actual_burned_area == 1))\n",
        "        false_positives = np.sum((simulated_burned == 1) & (model.actual_burned_area == 0))\n",
        "        false_negatives = np.sum((simulated_burned == 0) & (model.actual_burned_area == 1))\n",
        "\n",
        "        sorensen = 2 * true_positives / (2 * true_positives + false_positives + false_negatives) if (2 * true_positives + false_positives + false_negatives) > 0 else 0\n",
        "\n",
        "        return sorensen\n",
        "    else:\n",
        "        return 0.0  # No actual data to compare with"
      ]
    },
    {
      "cell_type": "markdown",
      "id": "4a6be31b",
      "metadata": {
        "id": "4a6be31b"
      },
      "source": [
        "## Implementing the Genetic Algorithm for Parameter Optimization\n",
        "\n",
        "Now we'll implement a genetic algorithm to find the optimal parameters for our fire spread model."
      ]
    },
    {
      "cell_type": "code",
      "execution_count": null,
      "id": "5a06dbfa",
      "metadata": {
        "id": "5a06dbfa"
      },
      "outputs": [],
      "source": [
        "# Define parameter ranges\n",
        "PARAM_RANGES = {\n",
        "    'p0': (0.1, 0.9),   # Base ignition probability\n",
        "    'c1': (0.1, 1.0),   # Wind effect parameter 1\n",
        "    'c2': (0.1, 1.0)    # Wind effect parameter 2\n",
        "}\n",
        "\n",
        "# Define genetic algorithm fitness function\n",
        "def evaluate_individual(individual, fire_folder, simulation_steps=20):\n",
        "    \"\"\"Evaluate fitness of a GA individual (parameter set)\"\"\"\n",
        "    # Convert GA individual to parameter dictionary\n",
        "    params = {\n",
        "        'p0': individual[0],\n",
        "        'c1': individual[1],\n",
        "        'c2': individual[2]\n",
        "    }\n",
        "\n",
        "    # Initialize model\n",
        "    model = init_model_from_fire_data(fire_folder)\n",
        "    if not model:\n",
        "        return (0.0,)  # Return tuple with single value for DEAP\n",
        "\n",
        "    # Evaluate with these parameters\n",
        "    sorensen = evaluate_model_performance(model, simulation_steps, params)\n",
        "\n",
        "    return (sorensen,)  # Return tuple with single value for DEAP\n",
        "\n",
        "# Setup genetic algorithm\n",
        "def setup_genetic_algorithm():\n",
        "    \"\"\"Setup DEAP genetic algorithm framework\"\"\"\n",
        "    # We want to maximize the Sørensen index\n",
        "    creator.create(\"FitnessMax\", base.Fitness, weights=(1.0,))\n",
        "    creator.create(\"Individual\", list, fitness=creator.FitnessMax)\n",
        "\n",
        "    toolbox = base.Toolbox()\n",
        "\n",
        "    # Register attribute generators\n",
        "    toolbox.register(\"attr_p0\", random.uniform, PARAM_RANGES['p0'][0], PARAM_RANGES['p0'][1])\n",
        "    toolbox.register(\"attr_c1\", random.uniform, PARAM_RANGES['c1'][0], PARAM_RANGES['c1'][1])\n",
        "    toolbox.register(\"attr_c2\", random.uniform, PARAM_RANGES['c2'][0], PARAM_RANGES['c2'][1])\n",
        "\n",
        "    # Register individual and population creation\n",
        "    toolbox.register(\"individual\", tools.initCycle, creator.Individual,\n",
        "                     (toolbox.attr_p0, toolbox.attr_c1, toolbox.attr_c2), n=1)\n",
        "    toolbox.register(\"population\", tools.initRepeat, list, toolbox.individual)\n",
        "\n",
        "    # Register genetic operators\n",
        "    toolbox.register(\"mate\", tools.cxBlend, alpha=0.5)\n",
        "    toolbox.register(\"mutate\", tools.mutGaussian, mu=0, sigma=0.1, indpb=0.2)\n",
        "    toolbox.register(\"select\", tools.selTournament, tournsize=3)\n",
        "\n",
        "    return toolbox\n",
        "\n",
        "# Check for DEAP creator reset\n",
        "if hasattr(creator, \"FitnessMax\"):\n",
        "    del creator.FitnessMax\n",
        "if hasattr(creator, \"Individual\"):\n",
        "    del creator.Individual"
      ]
    },
    {
      "cell_type": "markdown",
      "id": "e1159c7b",
      "metadata": {
        "id": "e1159c7b"
      },
      "source": [
        "## Running the Genetic Algorithm\n",
        "\n",
        "Now we'll run the genetic algorithm to find the optimal parameters for our fire spread model."
      ]
    },
    {
      "cell_type": "code",
      "execution_count": null,
      "id": "e22fd61c",
      "metadata": {
        "id": "e22fd61c"
      },
      "outputs": [],
      "source": [
        "def run_genetic_algorithm(fire_folder, pop_size=30, n_gen=10, simulation_steps=20):\n",
        "    \"\"\"Run genetic algorithm to optimize model parameters\"\"\"\n",
        "    print(f\"Running genetic algorithm optimization for {fire_folder}...\")\n",
        "\n",
        "    # Setup GA\n",
        "    toolbox = setup_genetic_algorithm()\n",
        "\n",
        "    # Register evaluation function with the specific fire dataset\n",
        "    toolbox.register(\"evaluate\", evaluate_individual, fire_folder=fire_folder, simulation_steps=simulation_steps)\n",
        "\n",
        "    # Initialize population\n",
        "    pop = toolbox.population(n=pop_size)\n",
        "\n",
        "    # Initialize statistics\n",
        "    stats = tools.Statistics(lambda ind: ind.fitness.values)\n",
        "    stats.register(\"avg\", np.mean)\n",
        "    stats.register(\"std\", np.std)\n",
        "    stats.register(\"min\", np.min)\n",
        "    stats.register(\"max\", np.max)\n",
        "\n",
        "    # Run GA\n",
        "    hof = tools.HallOfFame(1)  # Keep track of best individual\n",
        "    pop, logbook = algorithms.eaSimple(pop, toolbox, cxpb=0.7, mutpb=0.2, ngen=n_gen,\n",
        "                                      stats=stats, halloffame=hof, verbose=True)\n",
        "\n",
        "    # Get best individual\n",
        "    best_ind = hof[0]\n",
        "    best_params = {\n",
        "        'p0': best_ind[0],\n",
        "        'c1': best_ind[1],\n",
        "        'c2': best_ind[2]\n",
        "    }\n",
        "    best_fitness = best_ind.fitness.values[0]\n",
        "\n",
        "    print(f\"\\nOptimization complete.\")\n",
        "    print(f\"Best parameters: {best_params}\")\n",
        "    print(f\"Best Sørensen index: {best_fitness:.4f}\")\n",
        "\n",
        "    # Plot GA progress\n",
        "    gen = logbook.select(\"gen\")\n",
        "    avg = logbook.select(\"avg\")\n",
        "    max_fitness = logbook.select(\"max\")\n",
        "\n",
        "    plt.figure(figsize=(10, 6))\n",
        "    plt.plot(gen, avg, label=\"Average\")\n",
        "    plt.plot(gen, max_fitness, label=\"Best\")\n",
        "    plt.xlabel(\"Generation\")\n",
        "    plt.ylabel(\"Fitness (Sørensen Index)\")\n",
        "    plt.title(\"Genetic Algorithm Optimization Progress\")\n",
        "    plt.legend()\n",
        "    plt.grid(True)\n",
        "    plt.show()\n",
        "\n",
        "    return best_params, best_fitness, logbook\n",
        "\n",
        "# Run GA for a single fire dataset\n",
        "calibration_fire = fires[0]\n",
        "    # Run with smaller population and fewer generations for testing\n",
        "best_params, best_fitness, logbook = run_genetic_algorithm(\n",
        "    fire_folder=calibration_fire,\n",
        "    pop_size=20,  # Small population for demonstration\n",
        "    n_gen=5,      # Few generations for demonstration\n",
        "    simulation_steps=20\n",
        ")"
      ]
    },
    {
      "cell_type": "markdown",
      "id": "210d6050",
      "metadata": {
        "id": "210d6050"
      },
      "source": [
        "## Validating the Optimized Parameters\n",
        "\n",
        "Let's validate our optimized parameters by comparing the model performance with default versus optimized parameters."
      ]
    },
    {
      "cell_type": "markdown",
      "id": "ceec76c7",
      "metadata": {
        "id": "ceec76c7"
      },
      "source": [
        "## Cross-Validation on Multiple Fire Datasets\n",
        "\n",
        "To ensure our optimized parameters generalize well, let's cross-validate them on multiple fire datasets."
      ]
    },
    {
      "cell_type": "code",
      "execution_count": null,
      "id": "4f638c69",
      "metadata": {
        "id": "4f638c69"
      },
      "outputs": [],
      "source": [
        "def cross_validate_parameters(params, fire_folders, simulation_steps=20):\n",
        "    \"\"\"Cross-validate parameters on multiple fire datasets\"\"\"\n",
        "    print(f\"Cross-validating parameters on {len(fire_folders)} fire datasets...\")\n",
        "\n",
        "    results = {}\n",
        "    for fire_folder in fire_folders:\n",
        "        print(f\"\\nValidating on {fire_folder}...\")\n",
        "\n",
        "        # Initialize model\n",
        "        model = init_model_from_fire_data(fire_folder)\n",
        "\n",
        "        # Evaluate with given parameters\n",
        "        sorensen = evaluate_model_performance(model, simulation_steps, params)\n",
        "        print(f\"Sørensen index: {sorensen:.4f}\")\n",
        "\n",
        "        results[fire_folder] = sorensen\n",
        "\n",
        "    # Calculate average performance\n",
        "    if results:\n",
        "        avg_sorensen = sum(results.values()) / len(results)\n",
        "        print(f\"\\nAverage Sørensen index across all datasets: {avg_sorensen:.4f}\")\n",
        "\n",
        "        # Plot results\n",
        "        plt.figure(figsize=(10, 6))\n",
        "        plt.bar(results.keys(), results.values())\n",
        "        plt.axhline(y=avg_sorensen, color='r', linestyle='--', label=f\"Average: {avg_sorensen:.4f}\")\n",
        "        plt.xlabel(\"Fire Dataset\")\n",
        "        plt.ylabel(\"Sørensen Index\")\n",
        "        plt.title(\"Parameter Performance Across Fire Datasets\")\n",
        "        plt.xticks(rotation=45)\n",
        "        plt.legend()\n",
        "        plt.tight_layout()\n",
        "        plt.show()\n",
        "\n",
        "    return results, avg_sorensen if results else 0.0\n",
        "\n",
        "# Cross-validate if we have optimized parameters\n",
        "results, avg_performance = cross_validate_parameters(\n",
        "        params=best_params,\n",
        "        fire_folders=fires,\n",
        "        simulation_steps=20\n",
        ")"
      ]
    },
    {
      "cell_type": "markdown",
      "id": "dd9ef325",
      "metadata": {
        "id": "dd9ef325"
      },
      "source": [
        "## Parameter Sensitivity Analysis\n",
        "\n",
        "Let's analyze how sensitive the model is to different parameter values."
      ]
    },
    {
      "cell_type": "code",
      "execution_count": null,
      "id": "b7461a6e",
      "metadata": {
        "id": "b7461a6e"
      },
      "outputs": [],
      "source": [
        "def parameter_sensitivity_analysis(fire_folder, base_params, parameter_name, value_range, steps=10, simulation_steps=20):\n",
        "    \"\"\"Analyze the sensitivity of model to a specific parameter\"\"\"\n",
        "    print(f\"Running sensitivity analysis for {parameter_name} on {fire_folder}...\")\n",
        "\n",
        "    values = np.linspace(value_range[0], value_range[1], steps)\n",
        "    scores = []\n",
        "\n",
        "    for value in values:\n",
        "        # Create new parameter set with the changed parameter\n",
        "        params = base_params.copy()\n",
        "        params[parameter_name] = value\n",
        "\n",
        "        # Initialize model\n",
        "        model = init_model_from_fire_data(fire_folder)\n",
        "\n",
        "        # Evaluate with this parameter value\n",
        "        sorensen = evaluate_model_performance(model, simulation_steps, params)\n",
        "        scores.append(sorensen)\n",
        "        print(f\"{parameter_name} = {value:.3f} -> Sørensen = {sorensen:.4f}\")\n",
        "\n",
        "    # Plot sensitivity curve\n",
        "    plt.figure(figsize=(10, 6))\n",
        "    plt.plot(values, scores, 'o-')\n",
        "    plt.axvline(x=base_params[parameter_name], color='r', linestyle='--',\n",
        "                label=f\"Optimized value: {base_params[parameter_name]:.3f}\")\n",
        "    plt.xlabel(parameter_name)\n",
        "    plt.ylabel(\"Sørensen Index\")\n",
        "    plt.title(f\"Sensitivity Analysis for {parameter_name}\")\n",
        "    plt.grid(True)\n",
        "    plt.legend()\n",
        "    plt.tight_layout()\n",
        "    plt.show()\n",
        "\n",
        "    return values, scores\n",
        "\n",
        "# Run sensitivity analysis if we have optimized parameters\n",
        "analysis_fire = fires[0]\n",
        "\n",
        "# Analyze sensitivity to p0 (base ignition probability)\n",
        "p0_values, p0_scores = parameter_sensitivity_analysis(\n",
        "    fire_folder=analysis_fire,\n",
        "    base_params=best_params,\n",
        "    parameter_name='p0',\n",
        "    value_range=PARAM_RANGES['p0'],\n",
        "    steps=8,  # Fewer steps for demonstration\n",
        "    simulation_steps=20\n",
        ")\n",
        "\n",
        "# Analyze sensitivity to c1 (wind effect parameter 1)\n",
        "c1_values, c1_scores = parameter_sensitivity_analysis(\n",
        "    fire_folder=analysis_fire,\n",
        "    base_params=best_params,\n",
        "    parameter_name='c1',\n",
        "    value_range=PARAM_RANGES['c1'],\n",
        "    steps=8,  # Fewer steps for demonstration\n",
        "    simulation_steps=20\n",
        "    )"
      ]
    },
    {
      "cell_type": "markdown",
      "id": "11db976c",
      "metadata": {
        "id": "11db976c"
      },
      "source": [
        "## Save Optimized Parameters\n",
        "\n",
        "Finally, let's save the optimized parameters to a file for later use."
      ]
    },
    {
      "cell_type": "code",
      "execution_count": null,
      "id": "9a30f081",
      "metadata": {
        "vscode": {
          "languageId": "plaintext"
        },
        "id": "9a30f081"
      },
      "outputs": [],
      "source": []
    }
  ],
  "metadata": {
    "language_info": {
      "name": "python"
    },
    "colab": {
      "provenance": []
    }
  },
  "nbformat": 4,
  "nbformat_minor": 5
}