{
 "cells": [
  {
   "cell_type": "code",
   "execution_count": null,
   "id": "06bd11b0",
   "metadata": {
    "vscode": {
     "languageId": "plaintext"
    }
   },
   "outputs": [],
   "source": []
  },
  {
   "cell_type": "code",
   "execution_count": null,
   "id": "78428b48",
   "metadata": {
    "vscode": {
     "languageId": "plaintext"
    }
   },
   "outputs": [],
   "source": [
    "model = CA(grid_size=(100, 100), cell_size=1)"
   ]
  },
  {
   "cell_type": "code",
   "execution_count": null,
   "id": "e6cc2a9c",
   "metadata": {
    "vscode": {
     "languageId": "plaintext"
    }
   },
   "outputs": [],
   "source": [
    "# Load the real Pine Hollow fire data\n",
    "fire_data_folder = \"az3698311211020200729\"\n",
    "model.load_mtbs_fire_data(fire_data_folder)\n",
    "model = CA(grid_size=(100, 100), cell_size=1)\n",
    "model.initialize_from_mtbs_data('c:/Users/Daniel/Downloads/mde_test/al3034808781020141129')"
   ]
  },
  {
   "cell_type": "code",
   "execution_count": null,
   "id": "a7224d13",
   "metadata": {
    "vscode": {
     "languageId": "plaintext"
    }
   },
   "outputs": [],
   "source": [
    "#Initialise synthetic data\n",
    "slope = np.random.uniform(0, 30, (100, 100))  # Slope in degrees\n",
    "aspect = np.random.uniform(0, 360, (100, 100))  # Aspect in degrees\n",
    "elevation = np.random.uniform(100, 1000, (100, 100))  # Elevation in meters\n",
    "humidity = np.random.uniform(20, 80, (100, 100))  # Relative humidity in %\n",
    "ndvi = np.random.uniform(0.1, 0.8, (100, 100))  # NDVI values\n",
    "\n",
    "# Load the environmental data into the model\n",
    "model.load_environmental_data(slope, aspect, elevation, humidity, ndvi)\n",
    "\n",
    "model.set_wind_parameters(wind_speed=5.0, wind_direction=225.0)\n"
   ]
  },
  {
   "cell_type": "code",
   "execution_count": null,
   "id": "a413b154",
   "metadata": {
    "vscode": {
     "languageId": "plaintext"
    }
   },
   "outputs": [],
   "source": [
    "# Higher probability of fire with higher slope, lower humidity, and moderate NDVI\n",
    "\n",
    "\n",
    "model.set_initial_fire([(50, 50)])\n",
    "\n",
    "# Run simulation for 50 time steps\n",
    "history = model.run_simulation(30)\n"
   ]
  },
  {
   "cell_type": "code",
   "execution_count": null,
   "id": "e2e419a2",
   "metadata": {
    "vscode": {
     "languageId": "plaintext"
    }
   },
   "outputs": [],
   "source": [
    "# Visualize the simulation\n",
    "model.visualize_simulation(history)"
   ]
  },
  {
   "cell_type": "code",
   "execution_count": null,
   "id": "e2411313",
   "metadata": {
    "vscode": {
     "languageId": "plaintext"
    }
   },
   "outputs": [],
   "source": [
    "if model.actual_burned_area is not None:\n",
    "    print(\"\\nEvaluating simulation against actual burn perimeter data:\")\n",
    "    accuracy, precision, recall, sorensen = model.evaluate_simulation()\n",
    "    f1 = 2 * (precision * recall) / (precision + recall) if (precision + recall) > 0 else 0\n",
    "    print(f\"Accuracy: {accuracy:.4f}\")\n",
    "    print(f\"Precision: {precision:.4f} (correctly predicted burned area / total predicted burned area)\")\n",
    "    print(f\"Recall: {recall:.4f} (correctly predicted burned area / actual burned area)\")\n",
    "    print(f\"F1 Score: {f1:.4f}\")\n",
    "    print(f\"Sørensen Index: {sorensen:.4f}\")\n",
    "    \n",
    "    # Create the comparison visualization\n",
    "    fig = model.overlay_simulation_with_actual()\n",
    "    plt.show()"
   ]
  },
  {
   "cell_type": "code",
   "execution_count": null,
   "id": "40e0c9ff",
   "metadata": {
    "vscode": {
     "languageId": "plaintext"
    }
   },
   "outputs": [],
   "source": [
    "    # Define intervention strategies\n",
    "    strategies = {\n",
    "        'no_intervention': {\n",
    "            'name': 'No Intervention (Baseline)',\n",
    "            'description': 'No firefighting intervention',\n",
    "            'function': lambda model, steps: model.run_simulation(steps)\n",
    "        },\n",
    "        'firebreaks': {\n",
    "            'name': 'Strategic Firebreaks',\n",
    "            'description': 'Create firebreaks to control fire spread',\n",
    "            'function': apply_firebreak_strategy\n",
    "        },\n",
    "        'direct_attack': {\n",
    "            'name': 'Direct Attack',\n",
    "            'description': 'Directly attack the fire front with fire retardant',\n",
    "            'function': apply_direct_attack_strategy\n",
    "        },\n",
    "        'indirect_attack': {\n",
    "            'name': 'Indirect Attack',\n",
    "            'description': 'Create control lines away from the fire edge',\n",
    "            'function': apply_indirect_attack_strategy\n",
    "        },\n",
    "        'combined_attack': {\n",
    "            'name': 'Combined Direct/Indirect Attack',\n",
    "            'description': 'Combined approach with both direct and indirect methods',\n",
    "            'function': apply_combined_attack_strategy\n",
    "        },\n",
    "        'aerial_attack': {\n",
    "            'name': 'Aerial Attack',\n",
    "            'description': 'Water and retardant drops from aircraft',\n",
    "            'function': apply_aerial_attack_strategy\n",
    "        },\n",
    "        'burnout': {\n",
    "            'name': 'Burnout Operations',\n",
    "            'description': 'Controlled burning of fuels between control lines and fire edge',\n",
    "            'function': apply_burnout_strategy\n",
    "        },\n",
    "        'wet_line': {\n",
    "            'name': 'Wet Line Strategy',\n",
    "            'description': 'Water applied to create a line of wet fuels to stop fire spread',\n",
    "            'function': apply_wet_line_strategy\n",
    "        },\n",
    "        'point_protection': {\n",
    "            'name': 'Point Protection',\n",
    "            'description': 'Focus resources on protecting specific high-value points',\n",
    "            'function': apply_point_protection_strategy\n",
    "        },\n",
    "        'early_detection': {\n",
    "            'name': 'Early Detection & Response',\n",
    "            'description': 'Early detection and rapid initial attack',\n",
    "            'function': apply_early_detection_strategy\n",
    "        }\n",
    "    }\n",
    "    \n",
    "    # Store results for comparison\n",
    "    results = {}\n",
    "    baseline_result = None\n",
    "    \n",
    "    # Create a figure for visualization of all strategies\n",
    "    fig, axes = plt.subplots(3, 4, figsize=(20, 15))\n",
    "    axes = axes.flatten()\n",
    "    \n",
    "    # Set the initial fire locations\n",
    "    initial_fire = [(50, 50)]\n",
    "    \n",
    "    # Run simulation for each strategy\n",
    "    for i, (strategy_id, strategy) in enumerate(strategies.items()):\n",
    "        print(f\"\\nEvaluating strategy: {strategy['name']}\")\n",
    "        print(f\"Description: {strategy['description']}\")\n",
    "        \n",
    "        # Clone the base model for this strategy\n",
    "        model = CA(grid_size=(100, 100), cell_size=1)\n",
    "        model.load_mtbs_fire_data(fire_data_folder)\n",
    "        model.load_environmental_data(slope, aspect, elevation, humidity, ndvi)\n",
    "        model.set_wind_parameters(wind_speed=5.0, wind_direction=225.0)\n",
    "        model.train_lssvm(training_data)\n",
    "        model.set_initial_fire(initial_fire)\n",
    "        \n",
    "        # Apply the strategy and run simulation\n",
    "        history = strategy['function'](model, num_steps)\n",
    "        \n",
    "        # Evaluate results\n",
    "        if model.actual_burned_area is not None:\n",
    "            accuracy, precision, recall, sorensen = model.evaluate_simulation()\n",
    "            f1 = 2 * (precision * recall) / (precision + recall) if (precision + recall) > 0 else 0\n",
    "            \n",
    "            # Save metrics\n",
    "            results[strategy_id] = {\n",
    "                'name': strategy['name'],\n",
    "                'accuracy': accuracy,\n",
    "                'precision': precision,\n",
    "                'recall': recall,\n",
    "                'f1': f1,\n",
    "                'sorensen': sorensen,\n",
    "                'burned_area': np.sum(model.grid == 2),  # Count of burned cells\n",
    "                'burnt_grid': (model.grid == 2).astype(int)  # Save the burnt grid for visualization\n",
    "            }\n",
    "            \n",
    "            # Save baseline result for comparison\n",
    "            if strategy_id == 'no_intervention':\n",
    "                baseline_result = results[strategy_id]\n",
    "            \n",
    "            # Plot results\n",
    "            ax = axes[i]\n",
    "            ax.imshow(model.grid == 2, cmap='Reds', interpolation='none')\n",
    "            ax.set_title(f\"{strategy['name']}\\nF1: {f1:.4f}\")\n",
    "            ax.axis('off')\n",
    "            \n",
    "            print(f\"  Accuracy: {accuracy:.4f}\")\n",
    "            print(f\"  F1 Score: {f1:.4f}\")\n",
    "            print(f\"  Burned Area: {results[strategy_id]['burned_area']} cells\")\n",
    "            \n",
    "            # Calculate fire containment percentage if not baseline\n",
    "            if baseline_result and strategy_id != 'no_intervention':\n",
    "                containment = 1.0 - (results[strategy_id]['burned_area'] / baseline_result['burned_area'])\n",
    "                containment_pct = max(0, containment * 100)\n",
    "                results[strategy_id]['containment_pct'] = containment_pct\n",
    "                print(f\"  Fire Containment: {containment_pct:.1f}%\")\n",
    "    \n",
    "    # Fill any unused subplot spaces\n",
    "    for i in range(len(strategies), len(axes)):\n",
    "        fig.delaxes(axes[i])\n",
    "    \n",
    "    plt.tight_layout()\n",
    "    plt.suptitle(\"Comparison of Fire Intervention Strategies\", fontsize=16, y=1.02)\n",
    "    plt.show()"
   ]
  },
  {
   "cell_type": "code",
   "execution_count": null,
   "id": "c2d03f51",
   "metadata": {
    "vscode": {
     "languageId": "plaintext"
    }
   },
   "outputs": [],
   "source": [
    "# Extract strategy names and containment percentages\n",
    "    strategies = []\n",
    "    containment_pcts = []\n",
    "    burned_areas = []\n",
    "    \n",
    "    for strategy_id, metrics in results.items():\n",
    "        if strategy_id != 'no_intervention':\n",
    "            strategies.append(metrics['name'])\n",
    "            containment_pcts.append(metrics.get('containment_pct', 0))\n",
    "            burned_areas.append(metrics['burned_area'])\n",
    "    \n",
    "    # Create a figure with two subplots\n",
    "    fig, (ax1, ax2) = plt.subplots(1, 2, figsize=(18, 8))\n",
    "    \n",
    "    # Plot containment percentages\n",
    "    containment_colors = plt.cm.YlOrRd(np.linspace(0.8, 0.2, len(strategies)))\n",
    "    ax1.bar(strategies, containment_pcts, color=containment_colors)\n",
    "    ax1.set_title('Fire Containment Effectiveness by Strategy')\n",
    "    ax1.set_ylabel('Containment Percentage (%)')\n",
    "    ax1.set_xlabel('Strategy')\n",
    "    ax1.set_xticklabels(strategies, rotation=45, ha='right')\n",
    "    ax1.grid(axis='y', linestyle='--', alpha=0.7)\n",
    "    \n",
    "    # Add baseline reference line\n",
    "    ax1.axhline(y=0, color='r', linestyle='--', label='Baseline (No Intervention)')\n",
    "    \n",
    "    # Add labels on bars\n",
    "    for i, v in enumerate(containment_pcts):\n",
    "        ax1.text(i, v + 1, f\"{v:.1f}%\", ha='center', fontweight='bold')\n",
    "    \n",
    "    # Plot burned areas\n",
    "    burned_colors = plt.cm.YlOrRd(np.linspace(0.2, 0.8, len(strategies)))\n",
    "    ax2.bar(strategies, burned_areas, color=burned_colors)\n",
    "    ax2.set_title('Burned Area by Strategy')\n",
    "    ax2.set_ylabel('Burned Area (cell count)')\n",
    "    ax2.set_xlabel('Strategy')\n",
    "    ax2.set_xticklabels(strategies, rotation=45, ha='right')\n",
    "    ax2.grid(axis='y', linestyle='--', alpha=0.7)\n",
    "    \n",
    "    # Add baseline reference line\n",
    "    baseline_area = baseline_result['burned_area']\n",
    "    ax2.axhline(y=baseline_area, color='r', linestyle='--', label=f'Baseline: {baseline_area} cells')\n",
    "    ax2.legend()\n",
    "    \n",
    "    # Add labels on bars\n",
    "    for i, v in enumerate(burned_areas):\n",
    "        ax2.text(i, v + 10, str(v), ha='center', fontweight='bold')\n",
    "    \n",
    "    plt.tight_layout()\n",
    "    plt.show()\n",
    "    \n",
    "    \n"
   ]
  }
 ],
 "metadata": {
  "language_info": {
   "name": "python"
  }
 },
 "nbformat": 4,
 "nbformat_minor": 5
}
